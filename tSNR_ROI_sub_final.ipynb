{
 "cells": [
  {
   "cell_type": "markdown",
   "metadata": {},
   "source": [
    "# Import modules"
   ]
  },
  {
   "cell_type": "code",
   "execution_count": null,
   "metadata": {
    "scrolled": true
   },
   "outputs": [],
   "source": [
    "from os.path import abspath, join, pardir\n",
    "from nilearn import datasets\n",
    "from roi_mean import roi_mean_interface\n",
    "from bids.layout import BIDSLayout\n",
    "from nipype.pipeline import Node, MapNode, Workflow\n",
    "from nipype.interfaces.io import DataSink, DataGrabber\n",
    "from nipype.algorithms.confounds import TSNR\n",
    "from nipype.interfaces.utility import Function, IdentityInterface\n",
    "from nilearn.input_data import NiftiLabelsMasker\n",
    "from nilearn import plotting\n",
    "from nipype.interfaces import fsl"
   ]
  },
  {
   "cell_type": "markdown",
   "metadata": {},
   "source": [
    "# Define variables for data and atlas"
   ]
  },
  {
   "cell_type": "code",
   "execution_count": null,
   "metadata": {},
   "outputs": [],
   "source": [
    "dataset_sub = datasets.fetch_atlas_harvard_oxford('sub-maxprob-thr25-2mm')\n",
    "\n",
    "atlas_filename_sub = dataset_sub.maps\n",
    "labels_sub = dataset_sub.labels\n",
    "\n",
    "project_path = abspath(\"tSNR_ROI/data\")\n",
    "\n",
    "layout = BIDSLayout(project_path)"
   ]
  },
  {
   "cell_type": "markdown",
   "metadata": {},
   "source": [
    "## Show path to output directory"
   ]
  },
  {
   "cell_type": "code",
   "execution_count": null,
   "metadata": {},
   "outputs": [],
   "source": [
    " abspath(join(project_path, pardir,\"output\"))"
   ]
  },
  {
   "cell_type": "markdown",
   "metadata": {},
   "source": [
    "## Show atlas labels"
   ]
  },
  {
   "cell_type": "code",
   "execution_count": null,
   "metadata": {},
   "outputs": [],
   "source": [
    "dataset_sub.labels"
   ]
  },
  {
   "cell_type": "markdown",
   "metadata": {},
   "source": [
    "## show runs"
   ]
  },
  {
   "cell_type": "code",
   "execution_count": null,
   "metadata": {},
   "outputs": [],
   "source": [
    "layout.get_runs()"
   ]
  },
  {
   "cell_type": "markdown",
   "metadata": {},
   "source": [
    "### Fetch files by subject_id and run_id\n",
    "        subject_id and run_id are the plain ids as you get them from `BIDSlayout.get_subjects()`\n",
    "        \n",
    "    Parameters\n",
    "    ---------\n",
    "    layout: BIDSLayout\n",
    "        layout to use\n",
    "    subject_id: str\n",
    "        SubjectID without sub-\n",
    "    run_id: str\n",
    "        RunID without run-\n",
    "        \n",
    "    Returns\n",
    "    -------\n",
    "    preprocessed,preprocessed_anat, brainmask, subject_id, run_id"
   ]
  },
  {
   "cell_type": "code",
   "execution_count": null,
   "metadata": {},
   "outputs": [],
   "source": [
    "def get_files(layout, subject_id, run_id):\n",
    "    brainmask = layout.get(type=\"brainmask\", return_type=\"file\", subject=subject_id, run=run_id)\n",
    "    preprocessed = layout.get(type=\"preproc\", return_type=\"file\", subject=subject_id, run=run_id)[0]\n",
    "    all_preprocs = layout.get(subject=subject_id, type=\"preproc\", return_type=\"file\", modality=\"anat\")\n",
    "    preproc_anat = [f for f in all_preprocs if \"MNI152NLin2009cAsym\" in f][0]\n",
    "    print(brainmask)\n",
    "    print(preprocessed)\n",
    "    print(preproc_anat)  \n",
    "    \n",
    "    return preprocessed, preproc_anat, brainmask, subject_id, run_id"
   ]
  },
  {
   "cell_type": "markdown",
   "metadata": {},
   "source": [
    "# Get Data"
   ]
  },
  {
   "cell_type": "markdown",
   "metadata": {},
   "source": [
    "### Setup Node identitysource"
   ]
  },
  {
   "cell_type": "code",
   "execution_count": null,
   "metadata": {},
   "outputs": [],
   "source": [
    "identitysource = Node(IdentityInterface(fields=[\"subject_id\", \"run_id\"]), name=\"identitysource\")\n",
    "\n",
    "identitysource.iterables= [('subject_id', layout.get_subjects()),\n",
    "                           ('run_id', layout.get_runs())]"
   ]
  },
  {
   "cell_type": "markdown",
   "metadata": {},
   "source": [
    "### Setup Node BIDSDataGrabber"
   ]
  },
  {
   "cell_type": "code",
   "execution_count": null,
   "metadata": {},
   "outputs": [],
   "source": [
    "BIDSDataGrabber = Node(Function(function=get_files,  input_names=[\"layout\", \"subject_id\", \"run_id\",],\n",
    "                                       output_names=[\"preproc\", \"preproc_anat\", \"brainmask\", \"subject_id\", \"run_id\"]), name=\"BIDSDataGrabber\")\n",
    "BIDSDataGrabber.inputs.layout = layout"
   ]
  },
  {
   "cell_type": "markdown",
   "metadata": {},
   "source": [
    "# Processing Nodes"
   ]
  },
  {
   "cell_type": "markdown",
   "metadata": {},
   "source": [
    "### Setup Node FLIRT\n",
    "#### Register T1w Image from fmriprep output to MNI152_T1_2mm_brain.nii.gz template"
   ]
  },
  {
   "cell_type": "code",
   "execution_count": null,
   "metadata": {},
   "outputs": [],
   "source": [
    "flirt = Node(fsl.FLIRT(bins=640, cost_func='mutualinfo'), name=\"flirt\")\n",
    "flirt.inputs.reference = abspath('MNI152_T1_2mm_brain.nii.gz')\n",
    "flirt.inputs.output_type = \"NIFTI_GZ\""
   ]
  },
  {
   "cell_type": "markdown",
   "metadata": {},
   "source": [
    "### Setup Node tSNR\n",
    "#### Calculate tSNR Map"
   ]
  },
  {
   "cell_type": "code",
   "execution_count": null,
   "metadata": {},
   "outputs": [],
   "source": [
    "tsnr = Node(TSNR(regress_poly=2), name='tsnr' )"
   ]
  },
  {
   "cell_type": "markdown",
   "metadata": {},
   "source": [
    "### Setup Node Register_tsnr\n",
    "#### Register tSNR Map to MNI152_T1_2mm_brain - template using matrix file from FLIRT"
   ]
  },
  {
   "cell_type": "code",
   "execution_count": null,
   "metadata": {},
   "outputs": [],
   "source": [
    "register_tsnr = Node(fsl.ApplyXFM(), name=\"register_tsnr\")\n",
    "register_tsnr.inputs.reference = abspath('MNI152_T1_2mm_brain.nii.gz')\n",
    "register_tsnr.inputs.apply_xfm = True"
   ]
  },
  {
   "cell_type": "markdown",
   "metadata": {},
   "source": [
    "### Set Atlas for mean calculation"
   ]
  },
  {
   "cell_type": "code",
   "execution_count": null,
   "metadata": {},
   "outputs": [],
   "source": [
    "roi_mean.inputs.roi_file = dataset_sub.maps\n",
    "# Specify ROI labels: roi_mean.inputs.roi_label = [1,2,3,4,5]\n",
    "# if disabled = use all labels"
   ]
  },
  {
   "cell_type": "markdown",
   "metadata": {},
   "source": [
    "### Setup Node roi_mean\n",
    "#### calculate mean values using function from roi_mean.py"
   ]
  },
  {
   "cell_type": "code",
   "execution_count": null,
   "metadata": {},
   "outputs": [],
   "source": [
    "roi_mean = Node(roi_mean_interface, name=\"roi_mean\")"
   ]
  },
  {
   "cell_type": "markdown",
   "metadata": {},
   "source": [
    "### Setup Node datasink"
   ]
  },
  {
   "cell_type": "code",
   "execution_count": null,
   "metadata": {},
   "outputs": [],
   "source": [
    "datasink = Node(DataSink(), name=\"datasink\")\n",
    "datasink.inputs.base_directory = abspath(join(project_path, pardir,\"output\"))"
   ]
  },
  {
   "cell_type": "markdown",
   "metadata": {},
   "source": [
    "### Connect Nodes, Setup Workflow"
   ]
  },
  {
   "cell_type": "code",
   "execution_count": null,
   "metadata": {
    "scrolled": true
   },
   "outputs": [],
   "source": [
    "tsnr_wf = Workflow(name=\"TSNR_calculation\")\n",
    "tsnr_wf.base_dir = abspath('rois_sub')\n",
    "tsnr_wf.connect([(identitysource, BIDSDataGrabber, [('subject_id','subject_id'),\n",
    "                                                    ('run_id','run_id')]), \n",
    "                 (BIDSDataGrabber, tsnr, [('preproc', 'in_file')]),\n",
    "                 (BIDSDataGrabber, flirt, [('preproc_anat', 'in_file')]),\n",
    "                 (flirt, register_tsnr, [('out_matrix_file', 'in_matrix_file')]),\n",
    "                 (tsnr, register_tsnr, [('tsnr_file', 'in_file')] ),\n",
    "                 (register_tsnr, roi_mean, [('out_file', 'data_file')]),       \n",
    "                 (BIDSDataGrabber, datasink, [('subject_id', 'container')]),\n",
    "                 \n",
    "                 (register_tsnr, datasink, [('out_file','tsnr')]),\n",
    "                 (roi_mean, datasink, [('out_file', 'tsnr.mean')]),]\n",
    "         )\n",
    "         \n",
    "tsnr_wf.write_graph(graph2use='colored', format='svg', simple_form=True)"
   ]
  },
  {
   "cell_type": "markdown",
   "metadata": {},
   "source": [
    "### Run the workflow"
   ]
  },
  {
   "cell_type": "code",
   "execution_count": null,
   "metadata": {},
   "outputs": [],
   "source": [
    "tsnr_wf.run()"
   ]
  }
 ],
 "metadata": {
  "kernelspec": {
   "display_name": "Python 3",
   "language": "python",
   "name": "python3"
  },
  "language_info": {
   "codemirror_mode": {
    "name": "ipython",
    "version": 3
   },
   "file_extension": ".py",
   "mimetype": "text/x-python",
   "name": "python",
   "nbconvert_exporter": "python",
   "pygments_lexer": "ipython3",
   "version": "3.6.5"
  }
 },
 "nbformat": 4,
 "nbformat_minor": 2
}
